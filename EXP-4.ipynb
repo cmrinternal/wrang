{
 "cells": [
  {
   "cell_type": "code",
   "execution_count": 5,
   "id": "6b816304",
   "metadata": {},
   "outputs": [
    {
     "data": {
      "text/plain": [
       "(     Unnamed: 0           Unnamed: 1 Unnamed: 2 Unnamed: 3 Unnamed: 4  \\\n",
       " 0  Country Rank  Country / Territory        NaN        NaN        NaN   \n",
       " 1           NaN                  NaN    WB Code   IFS Code     Region   \n",
       " 2             1              Denmark        DNK        128         EU   \n",
       " 3             1          New Zealand        NZL        196         AP   \n",
       " 4             3              Finland        FIN        172         EU   \n",
       " \n",
       "      Unnamed: 5      Unnamed: 6    Unnamed: 7      Unnamed: 8  \\\n",
       " 0  Country Rank  CPI 2013 Score  Surveys Used  Standard Error   \n",
       " 1           NaN             NaN           NaN             NaN   \n",
       " 2             1              91             7             2.2   \n",
       " 3             1              91             7             2.3   \n",
       " 4             3              89             7             1.7   \n",
       " \n",
       "                 Unnamed: 9  ... Unnamed: 16 Unnamed: 17 Unnamed: 18  \\\n",
       " 0  90% Confidence interval  ...         NaN         NaN         NaN   \n",
       " 1                    Lower  ...         IMD        ICRG          WB   \n",
       " 2                       87  ...          96          98           0   \n",
       " 3                       87  ...          89          98           0   \n",
       " 4                       86  ...          89          98           0   \n",
       " \n",
       "   Unnamed: 19 Unnamed: 20 Unnamed: 21 Unnamed: 22 Unnamed: 23 Unnamed: 24  \\\n",
       " 0         NaN         NaN         NaN         NaN         NaN         NaN   \n",
       " 1         WEF         WJP         EIU          GI        PERC          TI   \n",
       " 2          87          89          88          83           0           0   \n",
       " 3          96          86          88          83           0           0   \n",
       " 4          90          87          88          83           0           0   \n",
       " \n",
       "   Unnamed: 25  \n",
       " 0         NaN  \n",
       " 1          FH  \n",
       " 2           0  \n",
       " 3           0  \n",
       " 4           0  \n",
       " \n",
       " [5 rows x 26 columns],\n",
       "   UNICEF global databases Unnamed: 1 Unnamed: 2 Unnamed: 3 Unnamed: 4  \\\n",
       " 0            Child labour        NaN        NaN        NaN        NaN   \n",
       " 1   Updated November 2014        NaN        NaN        NaN        NaN   \n",
       " 2                     NaN        NaN        NaN        NaN        NaN   \n",
       " 3                     NaN  Total (%)        NaN    Sex (%)        NaN   \n",
       " 4     Countries and areas        NaN        NaN       Male     Female   \n",
       " \n",
       "                Unnamed: 5 Unnamed: 6                     Unnamed: 7  \\\n",
       " 0                     NaN        NaN                            NaN   \n",
       " 1                     NaN        NaN                            NaN   \n",
       " 2                     NaN        NaN                            NaN   \n",
       " 3  Place of residence (%)        NaN  Household wealth quintile (%)   \n",
       " 4                   Urban      Rural                        Poorest   \n",
       " \n",
       "   Unnamed: 8 Unnamed: 9 Unnamed: 10 Unnamed: 11     Unnamed: 12  Unnamed: 13  \n",
       " 0        NaN        NaN         NaN         NaN             NaN          NaN  \n",
       " 1        NaN        NaN         NaN         NaN             NaN          NaN  \n",
       " 2        NaN        NaN         NaN         NaN             NaN          NaN  \n",
       " 3        NaN        NaN         NaN         NaN  Reference Year  Data Source  \n",
       " 4     Second     Middle      Fourth     Richest             NaN          NaN  )"
      ]
     },
     "execution_count": 5,
     "metadata": {},
     "output_type": "execute_result"
    }
   ],
   "source": [
    "import pandas as pd\n",
    "#attempt to load the dataset again\n",
    "corruption_df=pd.read_excel('corruption_perception_index.xlsx')\n",
    "unicef_df=pd.read_excel('unicef_oct_2014.xlsx')\n",
    "\n",
    "#display the first few rows of each dataset to under\n",
    "corruption_df_head=corruption_df.head()\n",
    "unicef_df_head=unicef_df.head()\n",
    "\n",
    "corruption_df_head,unicef_df_head"
   ]
  },
  {
   "cell_type": "code",
   "execution_count": null,
   "id": "7e899e85",
   "metadata": {},
   "outputs": [],
   "source": [
    "#\n",
    "corr"
   ]
  }
 ],
 "metadata": {
  "kernelspec": {
   "display_name": "Python 3 (ipykernel)",
   "language": "python",
   "name": "python3"
  },
  "language_info": {
   "codemirror_mode": {
    "name": "ipython",
    "version": 3
   },
   "file_extension": ".py",
   "mimetype": "text/x-python",
   "name": "python",
   "nbconvert_exporter": "python",
   "pygments_lexer": "ipython3",
   "version": "3.11.5"
  }
 },
 "nbformat": 4,
 "nbformat_minor": 5
}
